{
 "cells": [
  {
   "cell_type": "code",
   "execution_count": 3,
   "metadata": {},
   "outputs": [
    {
     "name": "stdout",
     "output_type": "stream",
     "text": [
      "hello world2\n"
     ]
    }
   ],
   "source": [
    "id_w, eid2w, ew2id = 1, {}, {}\n",
    "with open('train_en.vocab.4k', 'r', encoding='utf-8') as f:\n",
    "    for w in f:\n",
    "        w = w.strip()\n",
    "        eid2w[id] = w\n",
    "        ew2id[w] = id\n",
    "        id +=1\n",
    "\n",
    "ev = id"
   ]
  },
  {
   "cell_type": "code",
   "execution_count": null,
   "metadata": {},
   "outputs": [],
   "source": [
    "edata = []\n",
    "with open('train.en', 'r', encoding='utf-8') as f:\n",
    "    for sen in f:\n",
    "        w1 = [ew2id['<s>']]\n",
    "        for w in sen.strip().split():\n",
    "            if w in ew2id:\n",
    "                w1.append(ew2id[w])\n",
    "            else:\n",
    "                w1.append(ew2id['<unk>'])\n",
    "        w1.append(ew2id['</s>'])\n",
    "        edata.appned(w1)"
   ]
  },
  {
   "cell_type": "code",
   "execution_count": null,
   "metadata": {},
   "outputs": [],
   "source": [
    "class MyNMT(nn.Module):\n",
    "    def __init__(self, jv, k):\n",
    "        super(MyNMT, self).__init__()\n",
    "        self.jemb = nn.Embedding(jv, k)\n",
    "        self.eemb = nn.Embedding(ev, k)\n",
    "        self.lstm1 = nn.LSTM(k, k, num_layers=2)\n",
    "        self.lstm2 = nn.LSTM(k, k, num_layers=2)\n",
    "        self.W = nn.Linear(k, ev)\n",
    "    def forward(self, jline, eline):\n",
    "        x = self.jemb(jline)\n",
    "        ox, (hnx, cnx) = self.lstm1(x)\n",
    "        y = self.eemb(eline)\n",
    "        oy, (hny, cny) = self.lstm2(y, (hnx, cnx))\n",
    "        out = self.W(oy)\n",
    "        return out\n",
    "    "
   ]
  },
  {
   "cell_type": "code",
   "execution_count": null,
   "metadata": {},
   "outputs": [],
   "source": [
    "net.train()\n",
    "for epoch in range(20):\n",
    "    loss1k = 0.0\n",
    "    for i in range(len(jdata)):\n",
    "        jinput = torch.LongTensor([jdata[i][1:]]).to(device)\n",
    "        einput = torch.LongTensor([edata[i][:-1]]).to(device)\n",
    "        out = net(jinput, einput)\n",
    "        gans = torch.LongTensor([edata[i][1:]]).to(device)\n",
    "        loss = criterion(out[0], gans[0])\n",
    "        loss1k += loss.item()\n",
    "        if (i%100 == 0):\n",
    "            print(epoch, i, loss1k)\n",
    "            loss1k = 0.0\n",
    "        optimizer.zero_grad()\n",
    "        loss.backward()\n",
    "        optimizer.step()\n",
    "    \n",
    "    outfile = \"nmt-\" + str(epoch) + \".model\"\n",
    "    torch.save(net.state_diact(), outfile)\n",
    "    "
   ]
  },
  {
   "cell_type": "code",
   "execution_count": null,
   "metadata": {},
   "outputs": [],
   "source": [
    "esid = ew2id['<s>']\n",
    "eeid = ew2id['</s>']\n",
    "net.eval()\n",
    "with torch.no_grad():\n",
    "    for i in range(len(jdata)):\n",
    "        jinput = torch.LongTensor([jdata[i][1: ]]).to(device)\n",
    "        x = net.jemb(jinput)\n",
    "        ox, (hn, cn) = net.lstm1(x)\n",
    "        wid = esim\n",
    "        s1 = 0\n",
    "        while True:\n",
    "            wids = torch.LongTensor([[wid]]).to(device)\n",
    "            y = net.eemb(wids)\n",
    "            oy, (hn, cn) = net.lstm2(y, (hn, cn))\n",
    "            oy1 = net.W(oy)\n",
    "            wid = torch.argmax(F.softmax(ox1[0], dim=1)).item()\n",
    "            if (wid==eeid):\n",
    "                break\n",
    "            print(eid2w[wid], \" \", end='')\n",
    "            s1 += 1\n",
    "            if (s1==30):\n",
    "                break\n",
    "        "
   ]
  },
  {
   "cell_type": "code",
   "execution_count": null,
   "metadata": {},
   "outputs": [],
   "source": [
    "from nltk.translate.bleu_score import corpus_bleu"
   ]
  },
  {
   "cell_type": "code",
   "execution_count": null,
   "metadata": {},
   "outputs": [],
   "source": [
    "class MyAttNMT(nn.Module):\n",
    "    def __init__(self, jv, ev, k):\n",
    "        super(MyAttNMT, self).__init__()\n",
    "        self.jemb = nn.Embedding(jv, k)\n",
    "        self.eemb = nn.Embedding(ev, k)\n",
    "        self.lstm1 = nn.LSTM(k, k, num_layers=2, batch_first=True)\n",
    "        self.lstm2 = nn.LSTM(k, k, num_layers=2, batch_first=True)\n",
    "        self.Wc = nn.Linear(2*k, k)\n",
    "        self.W = nn.Linear(k, ev)\n",
    "    def forward(self, jline, eline):\n",
    "        x = self.jemb(jline)\n",
    "        ox, (hnx, cnx) = self.lstm1(x)\n",
    "        y = self.eemb(eline)\n",
    "        oy, (hny, cny) = self.lstm2(y, (hnx, cnx))\n",
    "        ox1 = ox.permute(0, 2, 1)\n",
    "        sim = torch.bmm(oy, ox1)\n",
    "        bs, yws, xws = sim.shape\n",
    "        sim2 = sim.reshape(bs*yws, xws)\n",
    "        alpha = F.softmax(sim2, dim=1).reshape(bs, yws, xws)\n",
    "        ct = torch.bmm(alpha, ox)\n",
    "        oy1 = torch.cat([ct, oy], dim=2)\n",
    "        oy2 = self.Wc(oy1)\n",
    "        return self.W(oy2)\n"
   ]
  },
  {
   "cell_type": "code",
   "execution_count": null,
   "metadata": {},
   "outputs": [],
   "source": [
    "net.train()\n",
    "for ep in range(20):\n",
    "    i=0\n",
    "    for xs, ys in dataloader:\n",
    "        xs1, ys1, ys2 = [], [], []\n",
    "        for k in range(len(xs)):\n",
    "            tid = xs[k]\n",
    "            xs1.append(torch.LongTensor(tid[1:]))\n",
    "            tid = ys[k]\n",
    "            ys1.append(torch.LongTensor(tid[:-1]))\n",
    "            ys2.append(torch.LongTensor(tid[1:]))\n",
    "        jinput = pad_sequence(xs1, batch_first=True).to(device)\n",
    "        einput = pad_sequence(ys1, batch_first=True).to(device)\n",
    "        gans = pad_sequence(ys2, batch_first=True, padding_value=-1.0).to(device)\n",
    "        out = net(jinput, einput)\n",
    "        loss = criterion(out[0], gans[0])\n",
    "        for h in range(1, len(gans)):\n",
    "            loss += criterion(out[h], gans[h])\n",
    "        print(ep, i, loss.item())\n",
    "        optimizer.zero_grad()\n",
    "        loss.backward()\n",
    "        optimizer.step()\n",
    "        i += 1\n",
    "    outfile = 'attnmt2-'+str(ep)+'.model'\n",
    "    torch.save(net.state_dict(), outfile)"
   ]
  }
 ],
 "metadata": {
  "kernelspec": {
   "display_name": "ds_env",
   "language": "python",
   "name": "ds_env"
  },
  "language_info": {
   "codemirror_mode": {
    "name": "ipython",
    "version": 3
   },
   "file_extension": ".py",
   "mimetype": "text/x-python",
   "name": "python",
   "nbconvert_exporter": "python",
   "pygments_lexer": "ipython3",
   "version": "3.10.9"
  }
 },
 "nbformat": 4,
 "nbformat_minor": 2
}
